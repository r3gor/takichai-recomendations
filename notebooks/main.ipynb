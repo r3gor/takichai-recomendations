{
 "cells": [
  {
   "cell_type": "code",
   "execution_count": 1,
   "metadata": {},
   "outputs": [
    {
     "data": {
      "text/plain": [
       "['title',\n",
       " 'artist',\n",
       " 'the genre of the track',\n",
       " 'year',\n",
       " 'Beats.Per.Minute -The tempo of the song',\n",
       " 'Energy- The energy of a song - the higher the value, the more energtic',\n",
       " 'Danceability - The higher the value, the easier it is to dance to this song',\n",
       " 'Loudness/dB - The higher the value, the louder the song',\n",
       " 'Liveness - The higher the value, the more likely the song is a live recording',\n",
       " 'Valence - The higher the value, the more positive mood for the song',\n",
       " 'Length - The duration of the song',\n",
       " 'Acousticness - The higher the value the more acoustic the song is',\n",
       " 'Speechiness - The higher the value the more spoken word the song contains',\n",
       " 'Popularity- The higher the value the more popular the song is']"
      ]
     },
     "execution_count": 1,
     "metadata": {},
     "output_type": "execute_result"
    }
   ],
   "source": [
    "import pandas as pd\n",
    "from sklearn.metrics.pairwise import sigmoid_kernel\n",
    "from sklearn.metrics.pairwise import cosine_similarity\n",
    "from sklearn import preprocessing\n",
    "\n",
    "df=pd.read_csv(\"../data/datasets/spotify.csv\", sep=',')\n",
    "\n",
    "df.head()\n",
    "df.columns.to_list()"
   ]
  },
  {
   "cell_type": "code",
   "execution_count": 2,
   "metadata": {},
   "outputs": [],
   "source": [
    "\n",
    "\n",
    "rename_map = {\n",
    "  \"title\": \"name\",\n",
    "  \"the genre of the track\" : \"genre\",\n",
    "  \"Popularity- The higher the value the more popular the song is\" : \"popularity\",\n",
    "  \"Length - The duration of the song\" : \"duration\",\n",
    "  \"Acousticness - The higher the value the more acoustic the song is\" : \"instrumental\",\n",
    "  \"Valence - The higher the value, the more positive mood for the song\" : \"mood\",\n",
    "}\n",
    "\n",
    "cols = list(rename_map.values())\n",
    "df = df.rename(rename_map, axis='columns')[cols]\n",
    "feature_cols = [\n",
    "  \"genre\", \n",
    "  \"popularity\", \"duration\", \"instrumental\", \"mood\"\n",
    "]"
   ]
  },
  {
   "cell_type": "code",
   "execution_count": 3,
   "metadata": {},
   "outputs": [
    {
     "name": "stdout",
     "output_type": "stream",
     "text": [
      "[[0.83838384 0.2862069  0.19191919 0.81632653]\n",
      " [0.82828283 0.44482759 0.24242424 0.65306122]]\n"
     ]
    }
   ],
   "source": [
    "from sklearn.preprocessing import MinMaxScaler\n",
    "scaler = MinMaxScaler()\n",
    "normalized_df =scaler.fit_transform(df[feature_cols])\n",
    "\n",
    "print(normalized_df[:2])"
   ]
  },
  {
   "cell_type": "code",
   "execution_count": 4,
   "metadata": {},
   "outputs": [],
   "source": [
    "\n",
    "# Create a pandas series with song titles as indices and indices as series values \n",
    "indices = pd.Series(df.index, index=df['name']).drop_duplicates()\n",
    "\n",
    "# Create cosine similarity matrix based on given matrix\n",
    "cosine = cosine_similarity(normalized_df)\n",
    "\n",
    "def generate_recommendation(song_title, model_type=cosine ):\n",
    "    \"\"\"\n",
    "    Purpose: Function for song recommendations \n",
    "    Inputs: song title and type of similarity model\n",
    "    Output: Pandas series of recommended songs\n",
    "    \"\"\"\n",
    "    # Get song indices\n",
    "    index=indices[song_title]\n",
    "    # Get list of songs for given songs\n",
    "    score=list(enumerate(model_type[indices[song_title]]))\n",
    "    # Sort the most similar songs\n",
    "    similarity_score = sorted(score,key = lambda x:x[1],reverse = True)\n",
    "    # Select the top-10 recommend songs\n",
    "    similarity_score = similarity_score[1:11]\n",
    "    top_songs_index = [i[0] for i in similarity_score]\n",
    "    # Top 10 recommende songs\n",
    "    top_songs=df['name'].iloc[top_songs_index]\n",
    "    return top_songs"
   ]
  },
  {
   "cell_type": "code",
   "execution_count": 5,
   "metadata": {},
   "outputs": [
    {
     "name": "stdout",
     "output_type": "stream",
     "text": [
      "\n",
      "Cosine Kernel - Recommended Songs:\n",
      "['Higher' 'Water Under the Bridge' 'Judas' 'Legendary Lovers'\n",
      " 'A Little Party Never Killed Nobody (All We Got)'\n",
      " 'A Little Party Never Killed Nobody (All We Got)'\n",
      " 'No Brainer (feat. Justin Bieber, Chance the Rapper & Quavo)'\n",
      " 'Steal My Girl' 'Boom Boom' 'Love On Top']\n",
      "\n",
      "\n",
      "Sigmoid Kernel - Recommended Songs:\n",
      "['Shape of You' 'Happy - From \"Despicable Me 2\"'\n",
      " \"There's Nothing Holdin' Me Back\"\n",
      " \"I'm the One (feat. Justin Bieber, Quavo, Chance the Rapper & Lil Wayne)\"\n",
      " 'Rude' 'Lose Yourself to Dance' 'Sugar' 'Shake It Off' 'Sucker'\n",
      " 'Blurred Lines']\n"
     ]
    },
    {
     "ename": "",
     "evalue": "",
     "output_type": "error",
     "traceback": [
      "\u001b[1;31mEl Kernel se bloqueó al ejecutar código en la celda actual o en una celda anterior. Revise el código de las celdas para identificar una posible causa del error. Haga clic <a href='https://aka.ms/vscodeJupyterKernelCrash'>aquí</a> para obtener más información. Vea el [registro] de Jupyter (command:jupyter.viewOutput) para obtener más detalles."
     ]
    }
   ],
   "source": [
    "song_title = \"Bad Romance\"\n",
    "\n",
    "print(\"\\nCosine Kernel - Recommended Songs:\")\n",
    "print(generate_recommendation(song_title, cosine).values)\n",
    "\n",
    "sig_kernel = sigmoid_kernel(normalized_df)\n",
    "\n",
    "print(\"\\n\\nSigmoid Kernel - Recommended Songs:\")\n",
    "print(generate_recommendation(song_title, sig_kernel).values)"
   ]
  },
  {
   "cell_type": "code",
   "execution_count": null,
   "metadata": {},
   "outputs": [],
   "source": []
  }
 ],
 "metadata": {
  "kernelspec": {
   "display_name": "Python 3.8.12 ('dm')",
   "language": "python",
   "name": "python3"
  },
  "language_info": {
   "codemirror_mode": {
    "name": "ipython",
    "version": 3
   },
   "file_extension": ".py",
   "mimetype": "text/x-python",
   "name": "python",
   "nbconvert_exporter": "python",
   "pygments_lexer": "ipython3",
   "version": "3.8.12"
  },
  "orig_nbformat": 4,
  "vscode": {
   "interpreter": {
    "hash": "6a9335d5829c75e4c3d5ed1f891f1021498de5eb2bcb7252a142703732a85d3a"
   }
  }
 },
 "nbformat": 4,
 "nbformat_minor": 2
}
